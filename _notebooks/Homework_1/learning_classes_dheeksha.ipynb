{
 "cells": [
  {
   "cell_type": "code",
   "execution_count": null,
   "id": "f68f4b5b",
   "metadata": {},
   "outputs": [],
   "source": [
    "class vehicle {\n",
    "    constructor(make, model, year) {        \n",
    "        this.make = make;\n",
    "        this.model = model;\n",
    "        this.year = year;\n",
    "    }\n",
    "\n",
    "}"
   ]
  }
 ],
 "metadata": {
  "language_info": {
   "name": "python"
  }
 },
 "nbformat": 4,
 "nbformat_minor": 5
}
