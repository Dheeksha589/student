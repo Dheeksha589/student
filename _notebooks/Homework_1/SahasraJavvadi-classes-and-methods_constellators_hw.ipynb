{
 "cells": [
  {
   "cell_type": "markdown",
   "id": "3ddc81e9",
   "metadata": {},
   "source": [
    "---\n",
    "layout: post\n",
    "toc: True\n",
    "breadcrumb: True\n",
    "title: CSSE Classes and Methods HW\n",
    "description: These are the homework problems and popcorn hacks.\n",
    "permalink: /csse/fall_2025/javascript/classes-and-methods/homework\n",
    "author: Adya S, Niharika B, Salma Z, Anika S, Sophie H\n",
    "---"
   ]
  },
  {
   "cell_type": "markdown",
   "id": "04a627a9",
   "metadata": {},
   "source": [
    "## **Classes and Methods**"
   ]
  },
  {
   "cell_type": "markdown",
   "id": "a88704ec",
   "metadata": {},
   "source": [
    "### <u>Popcorn Hack 1 - Dice Roller</u>\n",
    "\n",
    "\n",
    "Instructions:\n",
    "Finish the code in the cell below (fill in underlines and add lines of code) so it works as described:\n",
    "\n",
    "- Create a class called Dice that:\n",
    "    - Has a property for the number of sides.\n",
    "    - Has a method roll() that returns a random number between 1 and the number of sides.\n",
    "\n",
    "\n",
    "At the bottom, test your game by making a DiceGame object and calling roll() a few times.\n",
    "\n",
    "The code is currently NOT functional. When you have completed this popcorn hack, the code should work. Have fun!"
   ]
  },
  {
   "cell_type": "code",
   "execution_count": null,
   "id": "1efea2b5",
   "metadata": {
    "vscode": {
     "languageId": "typescript"
    }
   },
   "outputs": [],
   "source": [
    "---\n",
    "layout: base\n",
    "title: Just test\n",
    "description:  test\n",
    "permalink: /test\n",
    "---"
   ]
  },
  {
   "cell_type": "code",
   "execution_count": null,
   "id": "83cfb441",
   "metadata": {
    "vscode": {
     "languageId": "javascript"
    }
   },
   "outputs": [
    {
     "data": {
      "application/javascript": "\nclass _____ { // What should the name of the class be?\n  constructor(sides) { // Constructor to initialize the number of sides\n    this.sides = sides; // Number of sides on the dice\n  }\n\n  // ____() { // What should the name of the method be?\n    return Math.floor(Math.random() * _________) + 1; // Rolls the dice and returns a number between 1 and the number of sides\n  }\n}\n\n// Test the Dice class:\n// INSTANTIATE A NEW DICE OBJECT WITH A NUMBER OF SIDES\n\n// CALL THE ROLL METHOD A FEW TIMES AND PRINT THE RESULTS\n",
      "text/plain": [
       "<IPython.core.display.Javascript object>"
      ]
     },
     "metadata": {},
     "output_type": "display_data"
    }
   ],
   "source": [
    "\n",
    "%%javascript\n",
    "\n",
    "class Dice { // What should the name of the class be?\n",
    "  constructor(sides) { // Constructor to initialize the number of sides\n",
    "    this.sides = sides; // Number of sides on the dice\n",
    "  }\n",
    "\n",
    "  // Method to roll the dice\n",
    "  roll() { \n",
    "    return Math.floor(Math.random() * this.sides) + 1; // Rolls the dice and returns a number between 1 and the number of sides\n",
    "  }\n",
    "\n",
    "\n",
    "// Test the Dice class:\n",
    "// INSTANTIATE A NEW DICE OBJECT WITH A NUMBER OF SIDES\n",
    "DheekshasDice = new Dice(6);\n",
    "\n",
    "// CALL THE ROLL METHOD A FEW TIMES AND PRINT THE RESULTS\n",
    "console.log(\"Rolling the dice...\");\n",
    "console.log(\"Result 1:\", DheekshasDice.roll());\n",
    "console.log(\"Result 2:\", DheekshasDice.roll());\n",
    "console.log(\"Result 3:\", DheekshasDice.roll());\n",
    "\n"
   ]
  },
  {
   "cell_type": "markdown",
   "id": "eb525919",
   "metadata": {},
   "source": [
    "### <u>Popcorn Hack 2 - Pet Simulator</u>\n",
    "\n",
    "\n",
    "This hack is a bit more complicated than the first. Points will be awarded based on effort and completion.\n",
    "\n",
    "\n",
    "Analyze the block of code below. Then, complete the following instructions:\n",
    "\n",
    "\n",
    "1) Create a simple Pet class by filling in the _________.\n",
    "\n",
    "2) Add at least 2 properties (like hunger, energy, or happiness). EX: Stats decrease over time.\n",
    "\n",
    "3) Add at least two functioning methods (such as feed, play, or sleep) EX: Buttons increase stats.\n",
    "\n",
    "4) Give your pet a name and print their current properties.\n",
    "\n",
    "5) Bonus: Add a \"status\" method to print all your pet's stats.\n",
    "\n",
    "\n",
    "The code is currently NOT functional. When you have completed this popcorn hack, the code should work. Have fun!\n",
    "\n"
   ]
  },
  {
   "cell_type": "code",
   "execution_count": null,
   "id": "740b316c",
   "metadata": {
    "vscode": {
     "languageId": "javascript"
    }
   },
   "outputs": [],
   "source": [
    "%%javascript\n",
    "\n",
    "class Pet {\n",
    "  constructor(name) {\n",
    "    this.name = name;\n",
    "    this.hunger = 8;\n",
    "    this.energy = 3;\n",
    "    this.happiness = 1;\n",
    "    this.heart_rate = 90;\n",
    "    this.temperature = 101.8;\n",
    "  }\n",
    "\n",
    "  // Method to feed the pet\n",
    "  feed() {\n",
    "    this.energy += 2;\n",
    "    this.hunger = Math.max(0, this.hunger - 2);\n",
    "    this.happiness += 3;\n",
    "    this.heart_rate += 2;\n",
    "    console.log(`${this.name} has been fed.`);\n",
    "  }\n",
    "\n",
    "  // Method to play with the pet\n",
    "  play() {\n",
    "    this.energy = Math.max(0, this.energy - 2);\n",
    "    this.hunger += 2;\n",
    "    this.happiness += 4;\n",
    "    console.log(`${this.name} has been played with.`);\n",
    "  }\n",
    "}\n",
    "\n",
    "// Instantiate a new pet\n",
    "const myPet = new Pet(\"Coco\");\n",
    "\n",
    "// Print initial properties\n",
    "console.log(\"My pet right now is :\", myPet);\n",
    "\n",
    "// Call the methods\n",
    "// Feed my pet\n",
    "myPet.feed();\n",
    "\n",
    "// AFter feeding my pet Coco\n",
    "console.log(\"AFter feeding my pet :\", myPet);\n",
    "\n",
    "// Playing with my pet\n",
    "myPet.play();\n",
    "\n",
    "// Print updated properties\n",
    "console.log(\"After playing with my pet:\", myPet);\n",
    "\n",
    "if (typeof output !== \"undefined\") {\n",
    "  output.innerText = `Pet Name: ${myPet.name}\n",
    "Hunger: ${myPet.hunger}\n",
    "Energy: ${myPet.energy}\n",
    "Happiness: ${myPet.happiness}\n",
    "Heart Rate: ${myPet.heart_rate}\n",
    "Temperature: ${myPet.temperature}`;\n",
    "}"
   ]
  },
  {
   "cell_type": "markdown",
   "id": "e7ae67bd",
   "metadata": {},
   "source": [
    "### <u>Homework</u>\n",
    "\n",
    "Complete the following questions in the next code block.\n",
    "\n",
    "1) Create a class Person with properties 'name' and 'age'. Print their properties.\n",
    "\n",
    "2) Add a method greet() to your Person class that prints a greeting using the person's name.\n",
    "\n",
    "3) Create a class Book with properties 'title', 'author', and 'pages'. Instantiate a book and print its properties.\n",
    "\n",
    "4) Add a method read(pages) to your Book class that increments a pagesRead property and prints a message.\n",
    "\n",
    "5) Add a method isLongBook() that returns true if pages > 300, otherwise false. Print the result for your book.\n",
    "\n",
    "6) Create a class Car with properties 'make', 'model', and 'fuel'. Add methods drive(distance) and refuel(amount). Print messages in each method.\n",
    "\n",
    "7) Add a static method info() to your Car class that prints 'Cars are vehicles.'\n",
    "\n",
    "8) Create a class ElectricCar that extends Car. Add a property 'battery' and a method charge(amount) that increases battery. Print battery level after charging.\n",
    "\n",
    "10) Create a routine that combines your objects: drive a Car, charge an ElectricCar, read pages from a Book, and call greet() on Person. Print outputs for each action.\n",
    "\n",
    "11) **Extra Credit:** Submit the original OOP Breakout Game Code (found on [OpenCS](https://github.com/Open-Coding-Society/pages/blob/main/hacks/breakout/breakout.md?plain=1)) after making the following edits:\n",
    "- Add another feature to the game: Add a method so that the ball must collide with some bricks twice for a brick to break completely.\n",
    "- Edit a method in the ball class to increase/decrease the speed of the ball: Please add a COMMENT on the game code that specifies which line you edited."
   ]
  },
  {
   "cell_type": "code",
   "execution_count": null,
   "id": "52d29f28",
   "metadata": {
    "vscode": {
     "languageId": "javascript"
    }
   },
   "outputs": [
    {
     "data": {
      "application/javascript": "\nconsole.log(\"Code, code, code!\");\n",
      "text/plain": [
       "<IPython.core.display.Javascript object>"
      ]
     },
     "metadata": {},
     "output_type": "display_data"
    }
   ],
   "source": [
    "%%javascript\n",
    "\n",
    "console.log(\"Code, code, code!\");\n",
    "\n",
    "// 1) Create a class Person\n",
    "class Person {\n",
    "  constructor(name, age) {\n",
    "    this.name = name;\n",
    "    this.age = age;\n",
    "  }\n",
    "\n",
    "  // 2) Method greet()\n",
    "  greet() {\n",
    "    console.log(`Hello, my name is ${this.name}!`);\n",
    "  }\n",
    "}\n",
    "\n",
    "const person1 = new Person(\"Dheeksha\", 21);\n",
    "console.log(\"Person:\", person1);\n",
    "\n",
    "// 3) Create a class Book\n",
    "class Book {\n",
    "  constructor(title, author, pages) {\n",
    "    this.title = title;\n",
    "    this.author = author;\n",
    "    this.pages = pages;\n",
    "    this.pagesRead = 0;\n",
    "  }\n",
    "\n",
    "  // 4) Method read(pages)\n",
    "  read(pages) {\n",
    "    this.pagesRead += pages;\n",
    "    console.log(`You read ${pages} pages of \"${this.title}\". Total read: ${this.pagesRead}`);\n",
    "  }\n",
    "\n",
    "  // 5) Method isLongBook()\n",
    "  isLongBook() {\n",
    "    return this.pages > 300;\n",
    "  }\n",
    "}\n",
    "\n",
    "const book1 = new Book(\"The Art of Code\", \"Ada Lovelace\", 350);\n",
    "console.log(\"Book:\", book1);\n",
    "console.log(\"Is long book?\", book1.isLongBook());\n",
    "\n",
    "// 6) Create a class Car\n",
    "class Car {\n",
    "  constructor(make, model, fuel) {\n",
    "    this.make = make;\n",
    "    this.model = model;\n",
    "    this.fuel = fuel;\n",
    "  }\n",
    "\n",
    "  drive(distance) {\n",
    "    this.fuel -= distance * 0.05;\n",
    "    console.log(`${this.make} ${this.model} drove ${distance} km. Fuel left: ${this.fuel.toFixed(2)}L`);\n",
    "  }\n",
    "\n",
    "  refuel(amount) {\n",
    "    this.fuel += amount;\n",
    "    console.log(`${this.make} ${this.model} refueled ${amount}L. Total fuel: ${this.fuel.toFixed(2)}L`);\n",
    "  }\n",
    "\n",
    "  // 7) Static method info()\n",
    "  static info() {\n",
    "    console.log(\"Cars are vehicles.\");\n",
    "  }\n",
    "}\n",
    "\n",
    "const car1 = new Car(\"Toyota\", \"Corolla\", 50);\n",
    "Car.info(); // Static method\n",
    "\n",
    "// 8) Create ElectricCar that extends Car\n",
    "class ElectricCar extends Car {\n",
    "  constructor(make, model, fuel, battery) {\n",
    "    super(make, model, fuel);\n",
    "    this.battery = battery;\n",
    "  }\n",
    "\n",
    "  charge(amount) {\n",
    "    this.battery += amount;\n",
    "    console.log(`${this.make} ${this.model} charged ${amount}%. Battery level: ${this.battery}%`);\n",
    "  }\n",
    "}\n",
    "\n",
    "const eCar1 = new ElectricCar(\"Tesla\", \"Model 3\", 0, 40);\n",
    "\n",
    "// 10) Routine combining all objects\n",
    "console.log(\"\\n--- Routine Start ---\");\n",
    "car1.drive(100);\n",
    "eCar1.charge(30);\n",
    "book1.read(50);\n",
    "person1.greet();\n",
    "console.log(\"--- Routine End ---\");"
   ]
  }
 ],
 "metadata": {
  "kernelspec": {
   "display_name": "venv",
   "language": "python",
   "name": "python3"
  },
  "language_info": {
   "codemirror_mode": {
    "name": "ipython",
    "version": 3
   },
   "file_extension": ".py",
   "mimetype": "text/x-python",
   "name": "python",
   "nbconvert_exporter": "python",
   "pygments_lexer": "ipython3",
   "version": "3.12.3"
  }
 },
 "nbformat": 4,
 "nbformat_minor": 5
}
